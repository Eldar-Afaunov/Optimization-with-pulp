{
 "cells": [
  {
   "cell_type": "markdown",
   "metadata": {},
   "source": [
    "# Optimisation "
   ]
  },
  {
   "cell_type": "markdown",
   "metadata": {},
   "source": [
    "## Logistics"
   ]
  },
  {
   "cell_type": "markdown",
   "metadata": {},
   "source": [
    "In this work we are going to use Pulp for supply chain and logistics optimisation."
   ]
  },
  {
   "cell_type": "code",
   "execution_count": 1,
   "metadata": {},
   "outputs": [],
   "source": [
    "import os \n",
    "import pandas as pd \n",
    "%matplotlib inline \n",
    "import matplotlib \n",
    "import matplotlib.pyplot as plt \n",
    "import numpy as np \n",
    "from pulp import *\n",
    "from itertools import product"
   ]
  },
  {
   "cell_type": "markdown",
   "metadata": {},
   "source": [
    "Let's imagine we have piano company, in fact, we just deliver piano, everyday we recieve some orders, we have parnters in three different regions and we are able to cooperate with each of them separately (one partner per day). We should develop an alorithm which let us minimize our costs. Every piano can be delivered separetel, because it is fragile."
   ]
  },
  {
   "cell_type": "markdown",
   "metadata": {},
   "source": [
    "Let's initialize our markets and possible hubs and warehouses"
   ]
  },
  {
   "cell_type": "code",
   "execution_count": 2,
   "metadata": {},
   "outputs": [],
   "source": [
    "markets = ['Paris', 'Hauts-de-Seine', 'Seine-Saint-Denis', 'Val-de-Marne'] # where we deliver\n",
    "warehouses = ['Val-d Oise', 'Yvelines','Essonne'] # where our suppliers are\n",
    "import numpy as np\n",
    "import random\n",
    "costs_dict = [(m,w) for m in markets for w in warehouses]\n",
    "x = np.array([random.random() for i in range(12)])*1000\n",
    "costs_dict = dict(zip(costs_dict,x))\n",
    "# I initilize it with random numbers, but, usually we can use real data from experience of the company\n",
    "costs = pd.DataFrame(columns=markets,index=warehouses)"
   ]
  },
  {
   "cell_type": "code",
   "execution_count": 3,
   "metadata": {},
   "outputs": [
    {
     "data": {
      "text/html": [
       "<div>\n",
       "<style scoped>\n",
       "    .dataframe tbody tr th:only-of-type {\n",
       "        vertical-align: middle;\n",
       "    }\n",
       "\n",
       "    .dataframe tbody tr th {\n",
       "        vertical-align: top;\n",
       "    }\n",
       "\n",
       "    .dataframe thead th {\n",
       "        text-align: right;\n",
       "    }\n",
       "</style>\n",
       "<table border=\"1\" class=\"dataframe\">\n",
       "  <thead>\n",
       "    <tr style=\"text-align: right;\">\n",
       "      <th></th>\n",
       "      <th>demand</th>\n",
       "    </tr>\n",
       "    <tr>\n",
       "      <th>market</th>\n",
       "      <th></th>\n",
       "    </tr>\n",
       "  </thead>\n",
       "  <tbody>\n",
       "    <tr>\n",
       "      <th>Paris</th>\n",
       "      <td>9</td>\n",
       "    </tr>\n",
       "    <tr>\n",
       "      <th>Hauts-de-Seine</th>\n",
       "      <td>6</td>\n",
       "    </tr>\n",
       "    <tr>\n",
       "      <th>Seine-Saint-Denis</th>\n",
       "      <td>4</td>\n",
       "    </tr>\n",
       "    <tr>\n",
       "      <th>Val-de-Marne</th>\n",
       "      <td>7</td>\n",
       "    </tr>\n",
       "  </tbody>\n",
       "</table>\n",
       "</div>"
      ],
      "text/plain": [
       "                   demand\n",
       "market                   \n",
       "Paris                   9\n",
       "Hauts-de-Seine          6\n",
       "Seine-Saint-Denis       4\n",
       "Val-de-Marne            7"
      ]
     },
     "execution_count": 3,
     "metadata": {},
     "output_type": "execute_result"
    }
   ],
   "source": [
    "demand = np.array([random.randrange(10) for i in range(4)]) \n",
    "# similarly demand is random, but integer, because we can deliver only the whole piano\n",
    "demand = zip(demand,markets)\n",
    "demand = pd.DataFrame(demand)\n",
    "demand.columns = ['demand','market']\n",
    "demand = demand.set_index('market')\n",
    "demand"
   ]
  },
  {
   "cell_type": "code",
   "execution_count": 4,
   "metadata": {},
   "outputs": [
    {
     "data": {
      "text/html": [
       "<div>\n",
       "<style scoped>\n",
       "    .dataframe tbody tr th:only-of-type {\n",
       "        vertical-align: middle;\n",
       "    }\n",
       "\n",
       "    .dataframe tbody tr th {\n",
       "        vertical-align: top;\n",
       "    }\n",
       "\n",
       "    .dataframe thead th {\n",
       "        text-align: right;\n",
       "    }\n",
       "</style>\n",
       "<table border=\"1\" class=\"dataframe\">\n",
       "  <thead>\n",
       "    <tr style=\"text-align: right;\">\n",
       "      <th></th>\n",
       "      <th>Paris</th>\n",
       "      <th>Hauts-de-Seine</th>\n",
       "      <th>Seine-Saint-Denis</th>\n",
       "      <th>Val-de-Marne</th>\n",
       "    </tr>\n",
       "  </thead>\n",
       "  <tbody>\n",
       "    <tr>\n",
       "      <th>Val-d Oise</th>\n",
       "      <td>722.021</td>\n",
       "      <td>688.763</td>\n",
       "      <td>372.206</td>\n",
       "      <td>63.1353</td>\n",
       "    </tr>\n",
       "    <tr>\n",
       "      <th>Yvelines</th>\n",
       "      <td>270.946</td>\n",
       "      <td>880.917</td>\n",
       "      <td>159.856</td>\n",
       "      <td>662.928</td>\n",
       "    </tr>\n",
       "    <tr>\n",
       "      <th>Essonne</th>\n",
       "      <td>523.858</td>\n",
       "      <td>32.3367</td>\n",
       "      <td>292.584</td>\n",
       "      <td>621.675</td>\n",
       "    </tr>\n",
       "  </tbody>\n",
       "</table>\n",
       "</div>"
      ],
      "text/plain": [
       "              Paris Hauts-de-Seine Seine-Saint-Denis Val-de-Marne\n",
       "Val-d Oise  722.021        688.763           372.206      63.1353\n",
       "Yvelines    270.946        880.917           159.856      662.928\n",
       "Essonne     523.858        32.3367           292.584      621.675"
      ]
     },
     "execution_count": 4,
     "metadata": {},
     "output_type": "execute_result"
    }
   ],
   "source": [
    "for w in warehouses:\n",
    "    for m in markets:\n",
    "        costs.loc[(w,m)] = costs_dict[(m,w)]\n",
    "costs"
   ]
  },
  {
   "cell_type": "code",
   "execution_count": 5,
   "metadata": {},
   "outputs": [],
   "source": [
    "model = LpProblem(\"Choose_the_warehouses\", LpMinimize)\n",
    "var_dict = LpVariable.dicts('stock-loc', \n",
    "                            [warehouse for warehouse in warehouses], \n",
    "                            lowBound=0, cat=\"Binary\")\n",
    "model += lpSum([var_dict[warehouse]*costs.loc[warehouse, market]*demand.loc[market, 'demand'] for warehouse in warehouses for market in markets])"
   ]
  },
  {
   "cell_type": "markdown",
   "metadata": {},
   "source": [
    "We are allowed to open only one warehouse "
   ]
  },
  {
   "cell_type": "code",
   "execution_count": 6,
   "metadata": {},
   "outputs": [],
   "source": [
    "model += var_dict['Val-d Oise']+var_dict['Yvelines']+var_dict['Essonne'] == 1"
   ]
  },
  {
   "cell_type": "code",
   "execution_count": 7,
   "metadata": {},
   "outputs": [
    {
     "data": {
      "text/plain": [
       "1"
      ]
     },
     "execution_count": 7,
     "metadata": {},
     "output_type": "execute_result"
    }
   ],
   "source": [
    "model.solve()"
   ]
  },
  {
   "cell_type": "code",
   "execution_count": 8,
   "metadata": {},
   "outputs": [
    {
     "name": "stdout",
     "output_type": "stream",
     "text": [
      "Optimal\n",
      "stock_loc_Essonne = 1.0\n",
      "stock_loc_Val_d_Oise = 0.0\n",
      "stock_loc_Yvelines = 0.0\n",
      "Total Cost =  10430.807130988685\n"
     ]
    }
   ],
   "source": [
    "# Print status\n",
    "print(LpStatus[model.status])\n",
    "\n",
    "# Print variables\n",
    "for v in model.variables():\n",
    "    print(v.name, \"=\", v.varValue)\n",
    "print(\"Total Cost = \", value(model.objective))"
   ]
  },
  {
   "cell_type": "markdown",
   "metadata": {},
   "source": [
    "## Shawarma production "
   ]
  },
  {
   "cell_type": "markdown",
   "metadata": {},
   "source": [
    "We are schawarma producers at the railway station hub, who are specialized on two specific recipes: Awarma and Schawarma. The traffic is really intensive, and our production capacity is not high enough to fulfill the whole demand. Price Schawarma is 11 euro, price of Awarma is equal to 15 euro. Ingredients of Schawarma are 120 grams vegetables, 1 naan bread, 100 grams of meat. Ingredients of awarma are 200 grams of meat, 1 naan bread, 50 grams of houmous. We have three suppliers who send the products only in batches\n",
    "Vegetable and Houmous supplier (one kilogram of vegetable and one kilogram of houmous in batch)\n",
    "Meat supplier (one kilogram  of meat per batch)\n",
    "Naan supplier (100 naan per batch)\n",
    "price of meat=50 euro/kg, vegetables = 35 euro/kg naan = 5 cents, houmous = 28 euro/kg\n",
    "Everytging we produced we are able to sell, however we cannot produce more than 1000 shawarmas/awarma per day, so what would be the appropriate production strategy?"
   ]
  },
  {
   "cell_type": "code",
   "execution_count": 9,
   "metadata": {},
   "outputs": [],
   "source": [
    "s_price = 11\n",
    "a_price = 15\n",
    "# price per batch\n",
    "meat_price = 50\n",
    "vegetables_price = 35\n",
    "houmous_price = 28\n",
    "naan_price = 5"
   ]
  },
  {
   "cell_type": "code",
   "execution_count": 10,
   "metadata": {},
   "outputs": [
    {
     "name": "stderr",
     "output_type": "stream",
     "text": [
      "C:\\Users\\eldar\\Anaconda3\\lib\\site-packages\\pulp\\pulp.py:1114: UserWarning: Spaces are not permitted in the name. Converted to '_'\n",
      "  warnings.warn(\"Spaces are not permitted in the name. Converted to '_'\")\n"
     ]
    }
   ],
   "source": [
    "model = LpProblem(\"Maximize Profits\", LpMaximize)\n",
    "awarma = LpVariable('awarma', lowBound=0,upBound=None, cat = 'Integer')\n",
    "schawarma = LpVariable('schawarma', lowBound=0,upBound=None, cat = 'Integer')\n",
    "ingredients = ['meat','vegetables','houmous', 'naan']\n",
    "costs_ing = LpVariable.dicts('batched_ordered', ingredients, lowBound = 0, cat = 'Integer')"
   ]
  },
  {
   "cell_type": "code",
   "execution_count": 11,
   "metadata": {},
   "outputs": [
    {
     "data": {
      "text/plain": [
       "{'meat': batched_ordered_meat,\n",
       " 'vegetables': batched_ordered_vegetables,\n",
       " 'houmous': batched_ordered_houmous,\n",
       " 'naan': batched_ordered_naan}"
      ]
     },
     "execution_count": 11,
     "metadata": {},
     "output_type": "execute_result"
    }
   ],
   "source": [
    "costs_ing"
   ]
  },
  {
   "cell_type": "code",
   "execution_count": 12,
   "metadata": {},
   "outputs": [],
   "source": [
    "model += lpSum([awarma*a_price+\n",
    "                schawarma*s_price-\n",
    "                costs_ing['meat']*meat_price-\n",
    "                costs_ing['vegetables']*vegetables_price-\n",
    "                costs_ing['houmous']*houmous_price-\n",
    "                costs_ing['naan']*naan_price])"
   ]
  },
  {
   "cell_type": "code",
   "execution_count": 13,
   "metadata": {},
   "outputs": [],
   "source": [
    "model += awarma+schawarma <= 1000\n",
    "model += 0.2*awarma+0.1*schawarma <= costs_ing['meat']\n",
    "model += 0.12*schawarma <= costs_ing['vegetables']\n",
    "model += 0.05*awarma <= costs_ing['houmous']\n",
    "model += lpSum([awarma+schawarma])*0.01 <= costs_ing['naan']\n",
    "# we have one supplier for houmous and vegetables, we can buy this products only together \n",
    "model += costs_ing['vegetables'] == costs_ing['houmous']"
   ]
  },
  {
   "cell_type": "code",
   "execution_count": 14,
   "metadata": {},
   "outputs": [
    {
     "name": "stdout",
     "output_type": "stream",
     "text": [
      "Optimal\n",
      "awarma = 700.0\n",
      "batched_ordered_houmous = 35.0\n",
      "batched_ordered_meat = 169.0\n",
      "batched_ordered_naan = 10.0\n",
      "batched_ordered_vegetables = 35.0\n",
      "schawarma = 290.0\n",
      "Total profit =  2985.0\n"
     ]
    }
   ],
   "source": [
    "model.solve()\n",
    "# Print status\n",
    "print(LpStatus[model.status])\n",
    "\n",
    "# Print variables\n",
    "for v in model.variables():\n",
    "    print(v.name, \"=\", v.varValue)\n",
    "print(\"Total profit = \", value(model.objective))"
   ]
  },
  {
   "cell_type": "markdown",
   "metadata": {},
   "source": [
    "Here is our solution, requested orders and the profit, which is maximized"
   ]
  }
 ],
 "metadata": {
  "kernelspec": {
   "display_name": "Python 3",
   "language": "python",
   "name": "python3"
  },
  "language_info": {
   "codemirror_mode": {
    "name": "ipython",
    "version": 3
   },
   "file_extension": ".py",
   "mimetype": "text/x-python",
   "name": "python",
   "nbconvert_exporter": "python",
   "pygments_lexer": "ipython3",
   "version": "3.7.3"
  }
 },
 "nbformat": 4,
 "nbformat_minor": 2
}
