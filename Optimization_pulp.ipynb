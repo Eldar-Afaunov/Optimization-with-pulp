{
 "cells": [
  {
   "cell_type": "markdown",
   "metadata": {},
   "source": [
    "# Optimisation "
   ]
  },
  {
   "cell_type": "markdown",
   "metadata": {},
   "source": [
    "## Logistics (introduction, simple problem)"
   ]
  },
  {
   "cell_type": "markdown",
   "metadata": {},
   "source": [
    "In this work we are going to use Pulp for supply chain and logistics optimisation."
   ]
  },
  {
   "cell_type": "code",
   "execution_count": 1,
   "metadata": {},
   "outputs": [],
   "source": [
    "import os \n",
    "import pandas as pd \n",
    "%matplotlib inline \n",
    "import matplotlib \n",
    "import matplotlib.pyplot as plt \n",
    "import numpy as np \n",
    "from pulp import *\n",
    "from itertools import product\n",
    "import random "
   ]
  },
  {
   "cell_type": "markdown",
   "metadata": {},
   "source": [
    "Let's imagine we have piano company, in fact, we just deliver piano, everyday we receive some orders, we have partners in three different regions and we are able to cooperate with each of them separately (one partner per day). We should develop an algorithm which let us minimize our costs. Every piano can be delivered separately, because it is fragile."
   ]
  },
  {
   "cell_type": "markdown",
   "metadata": {},
   "source": [
    "Let's initialize our markets and possible hubs and warehouses"
   ]
  },
  {
   "cell_type": "code",
   "execution_count": 2,
   "metadata": {},
   "outputs": [],
   "source": [
    "markets = ['Paris', 'Hauts-de-Seine', 'Seine-Saint-Denis', 'Val-de-Marne'] # where we deliver\n",
    "warehouses = ['Val-d Oise', 'Yvelines','Essonne'] # where our suppliers are\n",
    "import numpy as np\n",
    "import random\n",
    "costs_dict = [(m,w) for m in markets for w in warehouses]\n",
    "x = np.array([random.random() for i in range(12)])*1000\n",
    "costs_dict = dict(zip(costs_dict,x))\n",
    "# I initilize it with random numbers, but, usually we can use real data from experience of the company\n",
    "costs = pd.DataFrame(columns=markets,index=warehouses)"
   ]
  },
  {
   "cell_type": "code",
   "execution_count": 3,
   "metadata": {},
   "outputs": [
    {
     "data": {
      "text/html": [
       "<div>\n",
       "<style scoped>\n",
       "    .dataframe tbody tr th:only-of-type {\n",
       "        vertical-align: middle;\n",
       "    }\n",
       "\n",
       "    .dataframe tbody tr th {\n",
       "        vertical-align: top;\n",
       "    }\n",
       "\n",
       "    .dataframe thead th {\n",
       "        text-align: right;\n",
       "    }\n",
       "</style>\n",
       "<table border=\"1\" class=\"dataframe\">\n",
       "  <thead>\n",
       "    <tr style=\"text-align: right;\">\n",
       "      <th></th>\n",
       "      <th>demand</th>\n",
       "    </tr>\n",
       "    <tr>\n",
       "      <th>market</th>\n",
       "      <th></th>\n",
       "    </tr>\n",
       "  </thead>\n",
       "  <tbody>\n",
       "    <tr>\n",
       "      <th>Paris</th>\n",
       "      <td>9</td>\n",
       "    </tr>\n",
       "    <tr>\n",
       "      <th>Hauts-de-Seine</th>\n",
       "      <td>8</td>\n",
       "    </tr>\n",
       "    <tr>\n",
       "      <th>Seine-Saint-Denis</th>\n",
       "      <td>2</td>\n",
       "    </tr>\n",
       "    <tr>\n",
       "      <th>Val-de-Marne</th>\n",
       "      <td>7</td>\n",
       "    </tr>\n",
       "  </tbody>\n",
       "</table>\n",
       "</div>"
      ],
      "text/plain": [
       "                   demand\n",
       "market                   \n",
       "Paris                   9\n",
       "Hauts-de-Seine          8\n",
       "Seine-Saint-Denis       2\n",
       "Val-de-Marne            7"
      ]
     },
     "execution_count": 3,
     "metadata": {},
     "output_type": "execute_result"
    }
   ],
   "source": [
    "demand = np.array([random.randrange(10) for i in range(4)]) \n",
    "# similarly demand is random, but integer, because we can deliver only the whole piano\n",
    "demand = zip(demand,markets)\n",
    "demand = pd.DataFrame(demand)\n",
    "demand.columns = ['demand','market']\n",
    "demand = demand.set_index('market')\n",
    "demand"
   ]
  },
  {
   "cell_type": "code",
   "execution_count": 4,
   "metadata": {},
   "outputs": [
    {
     "data": {
      "text/html": [
       "<div>\n",
       "<style scoped>\n",
       "    .dataframe tbody tr th:only-of-type {\n",
       "        vertical-align: middle;\n",
       "    }\n",
       "\n",
       "    .dataframe tbody tr th {\n",
       "        vertical-align: top;\n",
       "    }\n",
       "\n",
       "    .dataframe thead th {\n",
       "        text-align: right;\n",
       "    }\n",
       "</style>\n",
       "<table border=\"1\" class=\"dataframe\">\n",
       "  <thead>\n",
       "    <tr style=\"text-align: right;\">\n",
       "      <th></th>\n",
       "      <th>Paris</th>\n",
       "      <th>Hauts-de-Seine</th>\n",
       "      <th>Seine-Saint-Denis</th>\n",
       "      <th>Val-de-Marne</th>\n",
       "    </tr>\n",
       "  </thead>\n",
       "  <tbody>\n",
       "    <tr>\n",
       "      <th>Val-d Oise</th>\n",
       "      <td>381.733</td>\n",
       "      <td>252.552</td>\n",
       "      <td>621.94</td>\n",
       "      <td>786.634</td>\n",
       "    </tr>\n",
       "    <tr>\n",
       "      <th>Yvelines</th>\n",
       "      <td>570.05</td>\n",
       "      <td>611.508</td>\n",
       "      <td>654.286</td>\n",
       "      <td>383.275</td>\n",
       "    </tr>\n",
       "    <tr>\n",
       "      <th>Essonne</th>\n",
       "      <td>76.1259</td>\n",
       "      <td>261.686</td>\n",
       "      <td>380.647</td>\n",
       "      <td>716.849</td>\n",
       "    </tr>\n",
       "  </tbody>\n",
       "</table>\n",
       "</div>"
      ],
      "text/plain": [
       "              Paris Hauts-de-Seine Seine-Saint-Denis Val-de-Marne\n",
       "Val-d Oise  381.733        252.552            621.94      786.634\n",
       "Yvelines     570.05        611.508           654.286      383.275\n",
       "Essonne     76.1259        261.686           380.647      716.849"
      ]
     },
     "execution_count": 4,
     "metadata": {},
     "output_type": "execute_result"
    }
   ],
   "source": [
    "for w in warehouses:\n",
    "    for m in markets:\n",
    "        costs.loc[(w,m)] = costs_dict[(m,w)]\n",
    "costs"
   ]
  },
  {
   "cell_type": "code",
   "execution_count": 5,
   "metadata": {},
   "outputs": [],
   "source": [
    "model = LpProblem(\"Choose_the_warehouses\", LpMinimize)\n",
    "var_dict = LpVariable.dicts('stock-loc', \n",
    "                            [warehouse for warehouse in warehouses], \n",
    "                            lowBound=0, cat=\"Binary\")\n",
    "model += lpSum([var_dict[warehouse]*costs.loc[warehouse, market]*demand.loc[market, 'demand'] for warehouse in warehouses for market in markets])"
   ]
  },
  {
   "cell_type": "markdown",
   "metadata": {},
   "source": [
    "We are allowed to open only one warehouse "
   ]
  },
  {
   "cell_type": "code",
   "execution_count": 6,
   "metadata": {},
   "outputs": [],
   "source": [
    "model += var_dict['Val-d Oise']+var_dict['Yvelines']+var_dict['Essonne'] == 1"
   ]
  },
  {
   "cell_type": "code",
   "execution_count": 7,
   "metadata": {},
   "outputs": [
    {
     "data": {
      "text/plain": [
       "1"
      ]
     },
     "execution_count": 7,
     "metadata": {},
     "output_type": "execute_result"
    }
   ],
   "source": [
    "model.solve()"
   ]
  },
  {
   "cell_type": "code",
   "execution_count": 8,
   "metadata": {},
   "outputs": [
    {
     "name": "stdout",
     "output_type": "stream",
     "text": [
      "Optimal\n",
      "stock_loc_Essonne = 1.0\n",
      "stock_loc_Val_d_Oise = 0.0\n",
      "stock_loc_Yvelines = 0.0\n",
      "Total Cost =  8557.859283176775\n"
     ]
    }
   ],
   "source": [
    "# Print status\n",
    "print(LpStatus[model.status])\n",
    "\n",
    "# Print variables\n",
    "for v in model.variables():\n",
    "    print(v.name, \"=\", v.varValue)\n",
    "print(\"Total Cost = \", value(model.objective))"
   ]
  },
  {
   "cell_type": "markdown",
   "metadata": {},
   "source": [
    "## Shawarma production "
   ]
  },
  {
   "cell_type": "markdown",
   "metadata": {},
   "source": [
    "## Unlimited demand"
   ]
  },
  {
   "cell_type": "markdown",
   "metadata": {},
   "source": [
    "We are schawarma producers at the railway station hub, who are specialized on two specific recipes: Awarma and Schawarma. The traffic is really intensive, and our production capacity is not high enough to fulfill the whole demand. Price Schawarma is 11 euro, price of Awarma is equal to 15 euro. Ingredients of Schawarma are 120 grams vegetables, 1 naan bread, 100 grams of meat. Ingredients of awarma are 200 grams of meat, 1 naan bread, 50 grams of houmous. We have three suppliers who send the products only in batches\n",
    "Vegetable and Houmous supplier (one kilogram of vegetable and one kilogram of houmous in batch)\n",
    "Meat supplier (one kilogram  of meat per batch)\n",
    "Naan supplier (100 naan per batch)\n",
    "price of meat=50 euro/kg, vegetables = 35 euro/kg naan = 5 cents, houmous = 28 euro/kg\n",
    "Everything we produced we are able to sell, however we cannon produce more than 1000 shawarmas/awarma per day, so what would be the appropriate production strategy?"
   ]
  },
  {
   "cell_type": "code",
   "execution_count": 9,
   "metadata": {},
   "outputs": [],
   "source": [
    "s_price = 11\n",
    "a_price = 15\n",
    "# price per batch\n",
    "meat_price = 50\n",
    "vegetables_price = 35\n",
    "houmous_price = 28\n",
    "naan_price = 5"
   ]
  },
  {
   "cell_type": "code",
   "execution_count": 10,
   "metadata": {},
   "outputs": [],
   "source": [
    "model = LpProblem(\"Maximize_Profits\", LpMaximize)\n",
    "awarma = LpVariable('awarma', lowBound=0,upBound=None, cat = 'Integer')\n",
    "schawarma = LpVariable('schawarma', lowBound=0,upBound=None, cat = 'Integer')\n",
    "ingredients = ['meat','vegetables','houmous', 'naan']\n",
    "costs_ing = LpVariable.dicts('batched_ordered', ingredients, lowBound = 0, cat = 'Integer')"
   ]
  },
  {
   "cell_type": "code",
   "execution_count": 11,
   "metadata": {},
   "outputs": [
    {
     "data": {
      "text/plain": [
       "{'meat': batched_ordered_meat,\n",
       " 'vegetables': batched_ordered_vegetables,\n",
       " 'houmous': batched_ordered_houmous,\n",
       " 'naan': batched_ordered_naan}"
      ]
     },
     "execution_count": 11,
     "metadata": {},
     "output_type": "execute_result"
    }
   ],
   "source": [
    "costs_ing"
   ]
  },
  {
   "cell_type": "code",
   "execution_count": 12,
   "metadata": {},
   "outputs": [],
   "source": [
    "model += lpSum([awarma*a_price+\n",
    "                schawarma*s_price-\n",
    "                costs_ing['meat']*meat_price-\n",
    "                costs_ing['vegetables']*vegetables_price-\n",
    "                costs_ing['houmous']*houmous_price-\n",
    "                costs_ing['naan']*naan_price])"
   ]
  },
  {
   "cell_type": "code",
   "execution_count": 13,
   "metadata": {},
   "outputs": [],
   "source": [
    "model += awarma+schawarma <= 1000\n",
    "model += 0.2*awarma+0.1*schawarma <= costs_ing['meat']\n",
    "model += 0.12*schawarma <= costs_ing['vegetables']\n",
    "model += 0.05*awarma <= costs_ing['houmous']\n",
    "model += lpSum([awarma+schawarma])*0.01 <= costs_ing['naan']\n",
    "# we have one supplier for houmous and vegetables, we can buy this products only together \n",
    "model += costs_ing['vegetables'] == costs_ing['houmous']"
   ]
  },
  {
   "cell_type": "code",
   "execution_count": 14,
   "metadata": {},
   "outputs": [
    {
     "name": "stdout",
     "output_type": "stream",
     "text": [
      "Optimal\n",
      "awarma = 700.0\n",
      "batched_ordered_houmous = 35.0\n",
      "batched_ordered_meat = 169.0\n",
      "batched_ordered_naan = 10.0\n",
      "batched_ordered_vegetables = 35.0\n",
      "schawarma = 290.0\n",
      "Total profit =  2985.0\n"
     ]
    }
   ],
   "source": [
    "model.solve()\n",
    "# Print status\n",
    "print(LpStatus[model.status])\n",
    "\n",
    "# Print variables\n",
    "for v in model.variables():\n",
    "    print(v.name, \"=\", v.varValue)\n",
    "print(\"Total profit = \", value(model.objective))"
   ]
  },
  {
   "cell_type": "markdown",
   "metadata": {},
   "source": [
    "Here is our solution, requested orders and the profit, which is maximized"
   ]
  },
  {
   "cell_type": "markdown",
   "metadata": {},
   "source": [
    "## Limited demand"
   ]
  },
  {
   "cell_type": "markdown",
   "metadata": {},
   "source": [
    "### Sensitivity analysis "
   ]
  },
  {
   "cell_type": "markdown",
   "metadata": {},
   "source": [
    "Suppose we are limited not by our capacity but by the demand, let’s say, our market became saturated and now can count on approximately 1000 schawarma and 750 awarma everyday to sell maximum. How should change our supply strategy?"
   ]
  },
  {
   "cell_type": "code",
   "execution_count": 15,
   "metadata": {},
   "outputs": [
    {
     "name": "stdout",
     "output_type": "stream",
     "text": [
      "awarma = 747.0\n",
      "batched_ordered_houmous = 38.0\n",
      "batched_ordered_meat = 181.0\n",
      "batched_ordered_naan = 11.0\n",
      "batched_ordered_vegetables = 38.0\n",
      "schawarma = 316.0\n",
      "Total profit =  3182.0\n"
     ]
    }
   ],
   "source": [
    "model = LpProblem(\"Maximize_Profits\", LpMaximize)\n",
    "awarma = LpVariable('awarma', lowBound=0,upBound=None, cat = 'Integer')\n",
    "schawarma = LpVariable('schawarma', lowBound=0,upBound=None, cat = 'Integer')\n",
    "ingredients = ['meat','vegetables','houmous', 'naan']\n",
    "costs_ing = LpVariable.dicts('batched_ordered', ingredients, lowBound = 0, cat = 'Integer')\n",
    "model+=lpSum([awarma*a_price+ schawarma*s_price-costs_ing['meat']*meat_price-\n",
    "              costs_ing['vegetables']*vegetables_price-costs_ing['houmous']*houmous_price-costs_ing['naan']*naan_price])\n",
    "model += 0.2*awarma+0.1*schawarma <= costs_ing['meat']\n",
    "model += 0.12*schawarma <= costs_ing['vegetables']\n",
    "model += 0.05*awarma <= costs_ing['houmous']\n",
    "model += lpSum([awarma+schawarma])*0.01 <= costs_ing['naan']\n",
    "model += costs_ing['vegetables'] == costs_ing['houmous']\n",
    "model += awarma <= 750\n",
    "model += schawarma<= 1000\n",
    "model.solve()\n",
    "for v in model.variables():\n",
    "    print(v.name, \"=\", v.varValue)\n",
    "print(\"Total profit = \", value(model.objective))"
   ]
  },
  {
   "cell_type": "code",
   "execution_count": 16,
   "metadata": {},
   "outputs": [
    {
     "name": "stdout",
     "output_type": "stream",
     "text": [
      "Model Status: Optimal\n",
      "awarma = 747.0\n",
      "batched_ordered_houmous = 38.0\n",
      "batched_ordered_meat = 181.0\n",
      "batched_ordered_naan = 11.0\n",
      "batched_ordered_vegetables = 38.0\n",
      "schawarma = 316.0\n",
      "Objective =  3182.0\n",
      "  name  shadow price  slack\n",
      "0  _C1         -0.00   0.00\n",
      "1  _C2         -0.00   0.08\n",
      "2  _C3         -0.00   0.65\n",
      "3  _C4         -0.00   0.37\n",
      "4  _C5         -0.00  -0.00\n",
      "5  _C6         -0.00   3.00\n",
      "6  _C7         -0.00 684.00\n"
     ]
    }
   ],
   "source": [
    "print(\"Model Status: {}\".format(LpStatus[model.status]))\n",
    "for v in model.variables():\n",
    "    print(v.name, \"=\", v.varValue)\n",
    "print(\"Objective = \", value(model.objective))\n",
    "pd.options.display.float_format = '{:.2f}'.format\n",
    "# Print Shadow Price and Slack\n",
    "o = [{'name': name, 'shadow price': c.pi, 'slack': c.slack} \n",
    "     for name, c in model.constraints.items()]\n",
    "print(pd.DataFrame(o))"
   ]
  },
  {
   "cell_type": "markdown",
   "metadata": {},
   "source": [
    "We have an unmet demand in terms of schawarma sold, how could we fix it? First we should understand the nature of our supplies. We can fix it by change our supplies strategy or introducing another low margin product, which would use some houmous, so we will be able to use it, instead of changing our suppliers and order additional vegetables."
   ]
  },
  {
   "cell_type": "markdown",
   "metadata": {},
   "source": [
    "We are going to use houmous salad to sell some houmous we have to order because we order salad, it is going to be only 100 grams of houmous and the price will be 3 euro (the cost of 100 gramms of 2.8 euro). We think that half of our customers would accept such offer"
   ]
  },
  {
   "cell_type": "code",
   "execution_count": 17,
   "metadata": {},
   "outputs": [
    {
     "name": "stdout",
     "output_type": "stream",
     "text": [
      "awarma = 750.0\n",
      "batched_ordered_houmous = 60.0\n",
      "batched_ordered_meat = 200.0\n",
      "batched_ordered_naan = 13.0\n",
      "batched_ordered_vegetables = 60.0\n",
      "salad = 625.0\n",
      "schawarma = 500.0\n",
      "Total profit =  4780.0\n"
     ]
    }
   ],
   "source": [
    "model = LpProblem(\"Maximize_Profits\", LpMaximize)\n",
    "salad_price = 3\n",
    "awarma = LpVariable('awarma', lowBound=0,upBound=None, cat = 'Integer')\n",
    "schawarma = LpVariable('schawarma', lowBound=0,upBound=None, cat = 'Integer')\n",
    "salad = LpVariable('salad', lowBound=0,upBound=None, cat = 'Integer')\n",
    "ingredients = ['meat','vegetables','houmous', 'naan']\n",
    "costs_ing = LpVariable.dicts('batched_ordered', ingredients, lowBound = 0, cat = 'Integer')\n",
    "model+=lpSum([awarma*a_price+ schawarma*s_price+ salad*salad_price\n",
    "              -costs_ing['meat']*meat_price\n",
    "              -costs_ing['vegetables']*vegetables_price\n",
    "              -costs_ing['houmous']*houmous_price\n",
    "              -costs_ing['naan']*naan_price])\n",
    "model += 0.2*awarma+0.1*schawarma <= costs_ing['meat']\n",
    "model += 0.12*schawarma <= costs_ing['vegetables']\n",
    "model += 0.05*awarma+0.03*salad <= costs_ing['houmous']\n",
    "model += lpSum([awarma+schawarma])*0.01 <= costs_ing['naan']\n",
    "model += costs_ing['vegetables'] == costs_ing['houmous']\n",
    "model += awarma <= 750\n",
    "model += schawarma<= 1000\n",
    "model += salad <= 0.5*lpSum([awarma+schawarma])\n",
    "model.solve()\n",
    "for v in model.variables():\n",
    "    print(v.name, \"=\", v.varValue)\n",
    "print(\"Total profit = \", value(model.objective))"
   ]
  },
  {
   "cell_type": "markdown",
   "metadata": {},
   "source": [
    "As we can see, without introducing highly margin product, just due to optimization of supply chain (basically, our product line now have better fit to our supplies) we can achieve a dramatic increase in our profit (almost 1.5 thousand per day), let’s look through sensitivity analyses."
   ]
  },
  {
   "cell_type": "code",
   "execution_count": 18,
   "metadata": {},
   "outputs": [
    {
     "name": "stdout",
     "output_type": "stream",
     "text": [
      "  name  shadow price  slack\n",
      "0  _C1         -0.00   0.00\n",
      "1  _C2         -0.00  -0.00\n",
      "2  _C3         -0.00   3.75\n",
      "3  _C4         -0.00   0.50\n",
      "4  _C5         -0.00  -0.00\n",
      "5  _C6         -0.00  -0.00\n",
      "6  _C7         -0.00 500.00\n",
      "7  _C8         -0.00   0.00\n"
     ]
    }
   ],
   "source": [
    "# Print Shadow Price and Slack\n",
    "o = [{'name': name, 'shadow price': c.pi, 'slack': c.slack} \n",
    "     for name, c in model.constraints.items()]\n",
    "print(pd.DataFrame(o))"
   ]
  },
  {
   "cell_type": "markdown",
   "metadata": {},
   "source": [
    "However, the demand is not a constant in the next part we will check our model, by running it through monte-carlo simulation"
   ]
  },
  {
   "cell_type": "markdown",
   "metadata": {},
   "source": [
    "### Monte-Carlo Simulation"
   ]
  },
  {
   "cell_type": "code",
   "execution_count": 19,
   "metadata": {},
   "outputs": [
    {
     "name": "stderr",
     "output_type": "stream",
     "text": [
      "C:\\Users\\eldar\\Anaconda3\\lib\\site-packages\\pulp\\pulp.py:1114: UserWarning: Spaces are not permitted in the name. Converted to '_'\n",
      "  warnings.warn(\"Spaces are not permitted in the name. Converted to '_'\")\n"
     ]
    },
    {
     "data": {
      "text/html": [
       "<div>\n",
       "<style scoped>\n",
       "    .dataframe tbody tr th:only-of-type {\n",
       "        vertical-align: middle;\n",
       "    }\n",
       "\n",
       "    .dataframe tbody tr th {\n",
       "        vertical-align: top;\n",
       "    }\n",
       "\n",
       "    .dataframe thead th {\n",
       "        text-align: right;\n",
       "    }\n",
       "</style>\n",
       "<table border=\"1\" class=\"dataframe\">\n",
       "  <thead>\n",
       "    <tr style=\"text-align: right;\">\n",
       "      <th></th>\n",
       "      <th>Awarma_produced</th>\n",
       "      <th>Houmous_kg_ordered</th>\n",
       "      <th>mead_kg_ordered</th>\n",
       "      <th>naan_packages_ordered</th>\n",
       "      <th>vegetables_kg_ordered</th>\n",
       "      <th>Salad_produced</th>\n",
       "      <th>Schawarma_produced</th>\n",
       "      <th>Profit</th>\n",
       "    </tr>\n",
       "  </thead>\n",
       "  <tbody>\n",
       "    <tr>\n",
       "      <th>0</th>\n",
       "      <td>779.00</td>\n",
       "      <td>59.00</td>\n",
       "      <td>205.00</td>\n",
       "      <td>13.00</td>\n",
       "      <td>59.00</td>\n",
       "      <td>635.00</td>\n",
       "      <td>491.00</td>\n",
       "      <td>4959.00</td>\n",
       "    </tr>\n",
       "    <tr>\n",
       "      <th>1</th>\n",
       "      <td>671.00</td>\n",
       "      <td>55.00</td>\n",
       "      <td>180.00</td>\n",
       "      <td>12.00</td>\n",
       "      <td>55.00</td>\n",
       "      <td>564.00</td>\n",
       "      <td>458.00</td>\n",
       "      <td>4270.00</td>\n",
       "    </tr>\n",
       "    <tr>\n",
       "      <th>2</th>\n",
       "      <td>671.00</td>\n",
       "      <td>55.00</td>\n",
       "      <td>180.00</td>\n",
       "      <td>12.00</td>\n",
       "      <td>55.00</td>\n",
       "      <td>564.00</td>\n",
       "      <td>458.00</td>\n",
       "      <td>4270.00</td>\n",
       "    </tr>\n",
       "    <tr>\n",
       "      <th>3</th>\n",
       "      <td>671.00</td>\n",
       "      <td>55.00</td>\n",
       "      <td>180.00</td>\n",
       "      <td>12.00</td>\n",
       "      <td>55.00</td>\n",
       "      <td>564.00</td>\n",
       "      <td>458.00</td>\n",
       "      <td>4270.00</td>\n",
       "    </tr>\n",
       "    <tr>\n",
       "      <th>4</th>\n",
       "      <td>671.00</td>\n",
       "      <td>55.00</td>\n",
       "      <td>180.00</td>\n",
       "      <td>12.00</td>\n",
       "      <td>55.00</td>\n",
       "      <td>564.00</td>\n",
       "      <td>458.00</td>\n",
       "      <td>4270.00</td>\n",
       "    </tr>\n",
       "  </tbody>\n",
       "</table>\n",
       "</div>"
      ],
      "text/plain": [
       "   Awarma_produced  Houmous_kg_ordered  mead_kg_ordered  \\\n",
       "0           779.00               59.00           205.00   \n",
       "1           671.00               55.00           180.00   \n",
       "2           671.00               55.00           180.00   \n",
       "3           671.00               55.00           180.00   \n",
       "4           671.00               55.00           180.00   \n",
       "\n",
       "   naan_packages_ordered  vegetables_kg_ordered  Salad_produced  \\\n",
       "0                  13.00                  59.00          635.00   \n",
       "1                  12.00                  55.00          564.00   \n",
       "2                  12.00                  55.00          564.00   \n",
       "3                  12.00                  55.00          564.00   \n",
       "4                  12.00                  55.00          564.00   \n",
       "\n",
       "   Schawarma_produced  Profit  \n",
       "0              491.00 4959.00  \n",
       "1              458.00 4270.00  \n",
       "2              458.00 4270.00  \n",
       "3              458.00 4270.00  \n",
       "4              458.00 4270.00  "
      ]
     },
     "execution_count": 19,
     "metadata": {},
     "output_type": "execute_result"
    }
   ],
   "source": [
    "columns_names = ['Awarma_produced','Houmous_kg_ordered', 'mead_kg_ordered',\n",
    "           'naan_packages_ordered', 'vegetables_kg_ordered','Salad_produced','Schawarma_produced', 'Profit']\n",
    "df = pd.DataFrame(columns=columns_names)\n",
    "counter = 0\n",
    "model = LpProblem(\"Maximize Profits\", LpMaximize)\n",
    "awarma = LpVariable('awarma', lowBound=0,upBound=None, cat = 'Integer')\n",
    "schawarma = LpVariable('schawarma', lowBound=0,upBound=None, cat = 'Integer')\n",
    "salad = LpVariable('salad', lowBound=0,upBound=None, cat = 'Integer')\n",
    "ingredients = ['meat','vegetables','houmous', 'naan']\n",
    "costs_ing = LpVariable.dicts('batched_ordered', ingredients, lowBound = 0, cat = 'Integer')\n",
    "model+=lpSum([awarma*a_price+ schawarma*s_price+ salad*salad_price\n",
    "              -costs_ing['meat']*meat_price\n",
    "              -costs_ing['vegetables']*vegetables_price\n",
    "              -costs_ing['houmous']*houmous_price\n",
    "              -costs_ing['naan']*naan_price])\n",
    "model += 0.2*awarma+0.1*schawarma <= costs_ing['meat']\n",
    "model += 0.12*schawarma <= costs_ing['vegetables']\n",
    "model += 0.05*awarma+0.03*salad <= costs_ing['houmous']\n",
    "model += lpSum([awarma+schawarma])*0.01 <= costs_ing['naan']\n",
    "model += costs_ing['vegetables'] == costs_ing['houmous']\n",
    "while counter<1000:\n",
    "    counter +=1\n",
    "# now we are limited by the demand\n",
    "    model += awarma <= 750+random.normalvariate(0,50)\n",
    "    model += schawarma<= 1000+random.normalvariate(0,50)\n",
    "    # salad sales are now connected to the overall demand within one day\n",
    "    model += salad <= 0.5*lpSum([awarma+schawarma])\n",
    "    model.solve()\n",
    "    temp = dict(zip(columns_names[:-1],[v.varValue for v in model.variables()]))\n",
    "    temp['Profit']= value(model.objective)\n",
    "    df = df.append(temp, ignore_index=True)\n",
    "df.head()"
   ]
  },
  {
   "cell_type": "code",
   "execution_count": 20,
   "metadata": {},
   "outputs": [
    {
     "data": {
      "text/plain": [
       "[['Awarma_produced', 'Houmous_kg_ordered'],\n",
       " ['mead_kg_ordered', 'naan_packages_ordered'],\n",
       " ['vegetables_kg_ordered', 'Salad_produced'],\n",
       " ['Schawarma_produced', 'Profit']]"
      ]
     },
     "execution_count": 20,
     "metadata": {},
     "output_type": "execute_result"
    }
   ],
   "source": [
    "matrix = [list(df.columns[:2]),list(df.columns[2:4]),list(df.columns[4:6]), list(df.columns[6:8])]\n",
    "matrix"
   ]
  },
  {
   "cell_type": "code",
   "execution_count": 21,
   "metadata": {},
   "outputs": [
    {
     "data": {
      "text/html": [
       "<div>\n",
       "<style scoped>\n",
       "    .dataframe tbody tr th:only-of-type {\n",
       "        vertical-align: middle;\n",
       "    }\n",
       "\n",
       "    .dataframe tbody tr th {\n",
       "        vertical-align: top;\n",
       "    }\n",
       "\n",
       "    .dataframe thead th {\n",
       "        text-align: right;\n",
       "    }\n",
       "</style>\n",
       "<table border=\"1\" class=\"dataframe\">\n",
       "  <thead>\n",
       "    <tr style=\"text-align: right;\">\n",
       "      <th></th>\n",
       "      <th>Awarma_produced</th>\n",
       "      <th>Houmous_kg_ordered</th>\n",
       "      <th>mead_kg_ordered</th>\n",
       "      <th>naan_packages_ordered</th>\n",
       "      <th>vegetables_kg_ordered</th>\n",
       "      <th>Salad_produced</th>\n",
       "      <th>Schawarma_produced</th>\n",
       "      <th>Profit</th>\n",
       "    </tr>\n",
       "  </thead>\n",
       "  <tbody>\n",
       "    <tr>\n",
       "      <th>count</th>\n",
       "      <td>1000.00</td>\n",
       "      <td>1000.00</td>\n",
       "      <td>1000.00</td>\n",
       "      <td>1000.00</td>\n",
       "      <td>1000.00</td>\n",
       "      <td>1000.00</td>\n",
       "      <td>1000.00</td>\n",
       "      <td>1000.00</td>\n",
       "    </tr>\n",
       "    <tr>\n",
       "      <th>mean</th>\n",
       "      <td>610.30</td>\n",
       "      <td>46.40</td>\n",
       "      <td>160.60</td>\n",
       "      <td>10.09</td>\n",
       "      <td>46.40</td>\n",
       "      <td>497.83</td>\n",
       "      <td>385.39</td>\n",
       "      <td>3883.59</td>\n",
       "    </tr>\n",
       "    <tr>\n",
       "      <th>std</th>\n",
       "      <td>13.03</td>\n",
       "      <td>1.68</td>\n",
       "      <td>3.95</td>\n",
       "      <td>0.36</td>\n",
       "      <td>1.68</td>\n",
       "      <td>13.26</td>\n",
       "      <td>14.22</td>\n",
       "      <td>83.20</td>\n",
       "    </tr>\n",
       "    <tr>\n",
       "      <th>min</th>\n",
       "      <td>604.00</td>\n",
       "      <td>46.00</td>\n",
       "      <td>159.00</td>\n",
       "      <td>10.00</td>\n",
       "      <td>46.00</td>\n",
       "      <td>493.00</td>\n",
       "      <td>382.00</td>\n",
       "      <td>3843.00</td>\n",
       "    </tr>\n",
       "    <tr>\n",
       "      <th>25%</th>\n",
       "      <td>604.00</td>\n",
       "      <td>46.00</td>\n",
       "      <td>159.00</td>\n",
       "      <td>10.00</td>\n",
       "      <td>46.00</td>\n",
       "      <td>493.00</td>\n",
       "      <td>382.00</td>\n",
       "      <td>3843.00</td>\n",
       "    </tr>\n",
       "    <tr>\n",
       "      <th>50%</th>\n",
       "      <td>604.00</td>\n",
       "      <td>46.00</td>\n",
       "      <td>159.00</td>\n",
       "      <td>10.00</td>\n",
       "      <td>46.00</td>\n",
       "      <td>493.00</td>\n",
       "      <td>382.00</td>\n",
       "      <td>3843.00</td>\n",
       "    </tr>\n",
       "    <tr>\n",
       "      <th>75%</th>\n",
       "      <td>614.00</td>\n",
       "      <td>46.00</td>\n",
       "      <td>161.00</td>\n",
       "      <td>10.00</td>\n",
       "      <td>46.00</td>\n",
       "      <td>498.00</td>\n",
       "      <td>382.00</td>\n",
       "      <td>3908.00</td>\n",
       "    </tr>\n",
       "    <tr>\n",
       "      <th>max</th>\n",
       "      <td>779.00</td>\n",
       "      <td>59.00</td>\n",
       "      <td>205.00</td>\n",
       "      <td>13.00</td>\n",
       "      <td>59.00</td>\n",
       "      <td>635.00</td>\n",
       "      <td>491.00</td>\n",
       "      <td>4959.00</td>\n",
       "    </tr>\n",
       "  </tbody>\n",
       "</table>\n",
       "</div>"
      ],
      "text/plain": [
       "       Awarma_produced  Houmous_kg_ordered  mead_kg_ordered  \\\n",
       "count          1000.00             1000.00          1000.00   \n",
       "mean            610.30               46.40           160.60   \n",
       "std              13.03                1.68             3.95   \n",
       "min             604.00               46.00           159.00   \n",
       "25%             604.00               46.00           159.00   \n",
       "50%             604.00               46.00           159.00   \n",
       "75%             614.00               46.00           161.00   \n",
       "max             779.00               59.00           205.00   \n",
       "\n",
       "       naan_packages_ordered  vegetables_kg_ordered  Salad_produced  \\\n",
       "count                1000.00                1000.00         1000.00   \n",
       "mean                   10.09                  46.40          497.83   \n",
       "std                     0.36                   1.68           13.26   \n",
       "min                    10.00                  46.00          493.00   \n",
       "25%                    10.00                  46.00          493.00   \n",
       "50%                    10.00                  46.00          493.00   \n",
       "75%                    10.00                  46.00          498.00   \n",
       "max                    13.00                  59.00          635.00   \n",
       "\n",
       "       Schawarma_produced  Profit  \n",
       "count             1000.00 1000.00  \n",
       "mean               385.39 3883.59  \n",
       "std                 14.22   83.20  \n",
       "min                382.00 3843.00  \n",
       "25%                382.00 3843.00  \n",
       "50%                382.00 3843.00  \n",
       "75%                382.00 3908.00  \n",
       "max                491.00 4959.00  "
      ]
     },
     "execution_count": 21,
     "metadata": {},
     "output_type": "execute_result"
    }
   ],
   "source": [
    "df.describe()"
   ]
  },
  {
   "cell_type": "code",
   "execution_count": 22,
   "metadata": {},
   "outputs": [
    {
     "data": {
      "image/png": "[encoded data removed]",
      "text/plain": [
       "<Figure size 1332x756 with 8 Axes>"
      ]
     },
     "metadata": {
      "needs_background": "light"
     },
     "output_type": "display_data"
    }
   ],
   "source": [
    "graphs_names = [['Awarma produced','Houmous kg ordered'],\n",
    "           ['Meat kg ordered', 'Naan packages ordered'], \n",
    "            ['Vegetables kg ordered','Salad produced'],\n",
    "               ['Schawarma produced', 'Profit']]\n",
    "colors = [[ 'plum','magenta'],\n",
    "          [ 'mediumorchid','darkmagenta'],\n",
    "         ['rebeccapurple','darkblue'],\n",
    "         ['indigo','navy']]\n",
    "fig, ax = plt.subplots(4, 2)\n",
    "fig.set_size_inches(18.5, 10.5)\n",
    "fig.tight_layout()\n",
    "for i in list(range(4)):\n",
    "    for j in list(range(2)):\n",
    "        subax = ax[i,j]\n",
    "        subax.hist(df[matrix[i][j]], color=colors[i][j])\n",
    "        subax.set_title(graphs_names[i][j])\n",
    "        subax.set_xlim(max(0,df[matrix[i][j]].min()-np.std(df[matrix[i][j]])),df[matrix[i][j]].max()+np.std(df[matrix[i][j]]))\n",
    "        subax.set(xlabel = 'frequency', ylabel = 'quatnity')\n",
    "plt.tight_layout()\n",
    "plt.show()"
   ]
  },
  {
   "cell_type": "markdown",
   "metadata": {},
   "source": [
    "By that moment, one can be probably wondering, why do we need such visualizations  and simulations? In short, it gives an idea of how much safe stocks the company should have which would be covered in future projects"
   ]
  }
 ],
 "metadata": {
  "kernelspec": {
   "display_name": "Python 3",
   "language": "python",
   "name": "python3"
  },
  "language_info": {
   "codemirror_mode": {
    "name": "ipython",
    "version": 3
   },
   "file_extension": ".py",
   "mimetype": "text/x-python",
   "name": "python",
   "nbconvert_exporter": "python",
   "pygments_lexer": "ipython3",
   "version": "3.7.3"
  }
 },
 "nbformat": 4,
 "nbformat_minor": 2
}
